{
 "nbformat": 4,
 "nbformat_minor": 0,
 "metadata": {
  "colab": {
   "provenance": []
  },
  "kernelspec": {
   "name": "python3",
   "language": "python",
   "display_name": "Python 3 (ipykernel)"
  },
  "language_info": {
   "name": "python"
  }
 },
 "cells": [
  {
   "metadata": {
    "colab": {
     "base_uri": "https://localhost:8080/"
    },
    "id": "BzS2RUvgjQsE",
    "outputId": "dda3d2fa-bf05-4d57-dccd-ed8dde15ce02",
    "ExecuteTime": {
     "end_time": "2024-12-04T07:26:25.133380Z",
     "start_time": "2024-12-04T07:26:25.125776Z"
    }
   },
   "cell_type": "code",
   "outputs": [],
   "execution_count": 53,
   "source": [
    "\n",
    "#!pip install doubleml"
   ]
  },
  {
   "metadata": {
    "id": "4ljKsXqvi7OP",
    "ExecuteTime": {
     "end_time": "2024-12-04T07:26:25.605813Z",
     "start_time": "2024-12-04T07:26:25.600478Z"
    }
   },
   "cell_type": "code",
   "source": "from doubleml.datasets import fetch_bonus",
   "outputs": [],
   "execution_count": 54
  },
  {
   "cell_type": "code",
   "source": [
    "df_bonus = fetch_bonus('DataFrame')"
   ],
   "metadata": {
    "id": "rxw0mPt3jETF",
    "ExecuteTime": {
     "end_time": "2024-12-04T07:26:27.314577Z",
     "start_time": "2024-12-04T07:26:25.669519Z"
    }
   },
   "outputs": [],
   "execution_count": 55
  },
  {
   "cell_type": "code",
   "source": "df_bonus.head(5)",
   "metadata": {
    "colab": {
     "base_uri": "https://localhost:8080/",
     "height": 253
    },
    "id": "v1_4gbwQjWq9",
    "outputId": "067ca850-383b-42b0-ac8c-96ed87e75733",
    "jupyter": {
     "is_executing": true
    }
   },
   "outputs": [],
   "execution_count": null
  },
  {
   "cell_type": "code",
   "source": [
    "summary_full = df_bonus.describe()\n",
    "print(summary_full)"
   ],
   "metadata": {
    "colab": {
     "base_uri": "https://localhost:8080/"
    },
    "id": "y0lz99yjjZSn",
    "outputId": "c6f1f857-95ea-4b9a-a481-1a15751d4a13",
    "ExecuteTime": {
     "end_time": "2024-12-04T07:34:24.351943Z",
     "start_time": "2024-12-04T07:34:24.255998Z"
    }
   },
   "outputs": [
    {
     "name": "stdout",
     "output_type": "stream",
     "text": [
      "              index          abdt           tg     inuidur1     inuidur2  \\\n",
      "count   5099.000000   5099.000000  5099.000000  5099.000000  5099.000000   \n",
      "mean    7012.332418  10695.416356     0.342224     2.027585    12.281232   \n",
      "std     4007.971026    111.180503     0.474501     1.214753    10.362143   \n",
      "min        0.000000  10404.000000     0.000000     0.000000     0.000000   \n",
      "25%     3580.500000  10600.000000     0.000000     1.098612     2.000000   \n",
      "50%     7103.000000  10698.000000     0.000000     2.397895    10.000000   \n",
      "75%    10499.500000  10796.000000     1.000000     3.218876    23.000000   \n",
      "max    13911.000000  10880.000000     1.000000     3.951244    52.000000   \n",
      "\n",
      "            female        black     hispanic      othrace          dep  ...  \\\n",
      "count  5099.000000  5099.000000  5099.000000  5099.000000  5099.000000  ...   \n",
      "mean      0.404001     0.121985     0.032555     0.007256     0.439694  ...   \n",
      "std       0.490746     0.327300     0.177487     0.084883     0.757622  ...   \n",
      "min       0.000000     0.000000     0.000000     0.000000     0.000000  ...   \n",
      "25%       0.000000     0.000000     0.000000     0.000000     0.000000  ...   \n",
      "50%       0.000000     0.000000     0.000000     0.000000     0.000000  ...   \n",
      "75%       1.000000     0.000000     0.000000     0.000000     1.000000  ...   \n",
      "max       1.000000     1.000000     1.000000     1.000000     2.000000  ...   \n",
      "\n",
      "            recall      agelt35      agegt54      durable   nondurable  \\\n",
      "count  5099.000000  5099.000000  5099.000000  5099.000000  5099.000000   \n",
      "mean      0.110414     0.545009     0.109433     0.148068     0.109237   \n",
      "std       0.313436     0.498019     0.312213     0.355202     0.311967   \n",
      "min       0.000000     0.000000     0.000000     0.000000     0.000000   \n",
      "25%       0.000000     0.000000     0.000000     0.000000     0.000000   \n",
      "50%       0.000000     1.000000     0.000000     0.000000     0.000000   \n",
      "75%       0.000000     1.000000     0.000000     0.000000     0.000000   \n",
      "max       1.000000     1.000000     1.000000     1.000000     1.000000   \n",
      "\n",
      "              lusd         husd         muld         dep1         dep2  \n",
      "count  5099.000000  5099.000000  5099.000000  5099.000000  5099.000000  \n",
      "mean      0.261032     0.218670     0.444205     0.112179     0.163758  \n",
      "std       0.439240     0.413385     0.496926     0.315617     0.370092  \n",
      "min       0.000000     0.000000     0.000000     0.000000     0.000000  \n",
      "25%       0.000000     0.000000     0.000000     0.000000     0.000000  \n",
      "50%       0.000000     0.000000     0.000000     0.000000     0.000000  \n",
      "75%       1.000000     0.000000     1.000000     0.000000     0.000000  \n",
      "max       1.000000     1.000000     1.000000     1.000000     1.000000  \n",
      "\n",
      "[8 rows x 26 columns]\n"
     ]
    }
   ],
   "execution_count": 56
  },
  {
   "cell_type": "code",
   "source": [
    "# import matplotlib.pyplot as plt\n",
    "# df_bonus.hist(bins=30, figsize=(15, 10))\n",
    "# plt.tight_layout()\n",
    "# plt.show()"
   ],
   "metadata": {
    "id": "38MlAQBOjtqB",
    "ExecuteTime": {
     "end_time": "2024-12-04T07:34:24.370801Z",
     "start_time": "2024-12-04T07:34:24.364458Z"
    }
   },
   "outputs": [],
   "execution_count": 57
  },
  {
   "metadata": {
    "ExecuteTime": {
     "end_time": "2024-12-04T07:34:24.477326Z",
     "start_time": "2024-12-04T07:34:24.471711Z"
    }
   },
   "cell_type": "code",
   "source": "#!pip install seaborn",
   "outputs": [],
   "execution_count": 58
  },
  {
   "metadata": {
    "colab": {
     "base_uri": "https://localhost:8080/",
     "height": 466
    },
    "id": "6fkyF8QQ9Imx",
    "outputId": "93793110-b02e-49ab-f67d-71290c7532e1",
    "ExecuteTime": {
     "end_time": "2024-12-04T07:34:24.805253Z",
     "start_time": "2024-12-04T07:34:24.546696Z"
    }
   },
   "cell_type": "code",
   "source": [
    "import seaborn as sns\n",
    "\n",
    "# Plotting a specific variable, e.g., 'treatment_variable_name'\n",
    "sns.histplot(df_bonus['inuidur1'], kde=True)"
   ],
   "outputs": [
    {
     "data": {
      "text/plain": [
       "<Axes: xlabel='inuidur1', ylabel='Count'>"
      ]
     },
     "execution_count": 59,
     "metadata": {},
     "output_type": "execute_result"
    },
    {
     "data": {
      "text/plain": [
       "<Figure size 640x480 with 1 Axes>"
      ],
      "image/png": "[encoded data removed]"
     },
     "metadata": {},
     "output_type": "display_data"
    }
   ],
   "execution_count": 59
  },
  {
   "cell_type": "code",
   "source": [
    "# y_cfactual 생성\n",
    "\n",
    "from sklearn.linear_model import LinearRegression\n",
    "import numpy as np\n",
    "import pandas as pd\n",
    "\n",
    "# 데이터셋 로드\n",
    "# df_bonus는 이미 읽어온 상태라고 가정\n",
    "# treatment 변수와 outcome 변수를 지정 (변수명을 실제 컬럼명으로 교체)\n",
    "treatment_col = 'tg'  # 실제 treatment 변수명으로 교체\n",
    "outcome_col = 'inuidur1'  # 실제 outcome 변수명으로 교체\n",
    "features = df_bonus.drop(columns=[treatment_col, outcome_col])\n",
    "\n",
    "# Treatment group 모델 학습\n",
    "model_treat = LinearRegression()\n",
    "model_treat.fit(features[df_bonus[treatment_col] == 1], df_bonus.loc[df_bonus[treatment_col] == 1, outcome_col])\n",
    "\n",
    "# Control group 모델 학습\n",
    "model_control = LinearRegression()\n",
    "model_control.fit(features[df_bonus[treatment_col] == 0], df_bonus.loc[df_bonus[treatment_col] == 0, outcome_col])\n",
    "\n",
    "# 잠재적 결과 예측\n",
    "df_bonus['y_treat_pred'] = model_treat.predict(features)\n",
    "df_bonus['y_control_pred'] = model_control.predict(features)\n",
    "\n",
    "# Counterfactual outcome 생성\n",
    "df_bonus['counterfactual_outcome'] = np.where(df_bonus[treatment_col] == 1,\n",
    "                                              df_bonus['y_control_pred'],\n",
    "                                              df_bonus['y_treat_pred'])\n",
    "\n",
    "# 결과 확인\n",
    "print(df_bonus[['inuidur1', 'y_treat_pred', 'y_control_pred', 'counterfactual_outcome']].head())\n"
   ],
   "metadata": {
    "colab": {
     "base_uri": "https://localhost:8080/"
    },
    "id": "78dbydJABEPq",
    "outputId": "283bec26-e602-4850-add7-ed9b81f98350",
    "ExecuteTime": {
     "end_time": "2024-12-04T07:34:24.881300Z",
     "start_time": "2024-12-04T07:34:24.856240Z"
    }
   },
   "outputs": [
    {
     "name": "stdout",
     "output_type": "stream",
     "text": [
      "   inuidur1  y_treat_pred  y_control_pred  counterfactual_outcome\n",
      "0  2.890372      2.534120        2.576030                2.534120\n",
      "1  0.000000      0.788370        0.887995                0.788370\n",
      "2  3.295837      3.492692        3.543029                3.492692\n",
      "3  2.197225      1.696787        1.748270                1.748270\n",
      "4  3.295837      3.474261        3.427159                3.474261\n"
     ]
    }
   ],
   "execution_count": 60
  },
  {
   "cell_type": "code",
   "source": [
    "# y_factual, y_cfactual, tg -> treatment로 이름 변경\n",
    "\n",
    "df_bonus.rename(columns={'inuidur1': 'y_factual'}, inplace=True)\n",
    "df_bonus.rename(columns={'counterfactual_outcome': 'y_cfactual'}, inplace=True)\n",
    "df_bonus.rename(columns={'tg': 'treatment'}, inplace=True)\n",
    "\n",
    "# 결과 확인\n",
    "print(df_bonus.head())"
   ],
   "metadata": {
    "colab": {
     "base_uri": "https://localhost:8080/"
    },
    "id": "1BpKcS66DvTF",
    "outputId": "24d80f88-65b5-4544-c1e8-83e663dee1a2",
    "ExecuteTime": {
     "end_time": "2024-12-04T07:34:24.934808Z",
     "start_time": "2024-12-04T07:34:24.924843Z"
    }
   },
   "outputs": [
    {
     "name": "stdout",
     "output_type": "stream",
     "text": [
      "   index   abdt  treatment  y_factual  inuidur2  female  black  hispanic  \\\n",
      "0      0  10824          0   2.890372        18       0      0         0   \n",
      "1      3  10824          0   0.000000         1       0      0         0   \n",
      "2      4  10747          0   3.295837        27       0      0         0   \n",
      "3     11  10607          1   2.197225         9       0      0         0   \n",
      "4     12  10831          0   3.295837        27       0      0         0   \n",
      "\n",
      "   othrace  dep  ...  durable  nondurable  lusd  husd  muld  dep1  dep2  \\\n",
      "0        0    2  ...        0           0     0     1     0   0.0   1.0   \n",
      "1        0    0  ...        0           0     1     0     0   0.0   0.0   \n",
      "2        0    0  ...        0           0     1     0     0   0.0   0.0   \n",
      "3        0    0  ...        0           0     0     0     1   0.0   0.0   \n",
      "4        0    1  ...        1           0     1     0     0   1.0   0.0   \n",
      "\n",
      "   y_treat_pred  y_control_pred  y_cfactual  \n",
      "0      2.534120        2.576030    2.534120  \n",
      "1      0.788370        0.887995    0.788370  \n",
      "2      3.492692        3.543029    3.492692  \n",
      "3      1.696787        1.748270    1.748270  \n",
      "4      3.474261        3.427159    3.474261  \n",
      "\n",
      "[5 rows x 29 columns]\n"
     ]
    }
   ],
   "execution_count": 61
  },
  {
   "cell_type": "code",
   "source": [
    "import seaborn as sns\n",
    "\n",
    "# Plotting a specific variable, e.g., 'treatment_variable_name'\n",
    "sns.histplot(df_bonus['y_factual'], kde=True)\n",
    "sns.histplot(df_bonus['y_cfactual'], kde=True)"
   ],
   "metadata": {
    "colab": {
     "base_uri": "https://localhost:8080/",
     "height": 467
    },
    "id": "PaRkZfPPEGYV",
    "outputId": "980f6bb3-e9b7-4c35-8172-a3a989bb269c",
    "ExecuteTime": {
     "end_time": "2024-12-04T07:34:25.207891Z",
     "start_time": "2024-12-04T07:34:24.977802Z"
    }
   },
   "outputs": [
    {
     "data": {
      "text/plain": [
       "<Axes: xlabel='y_factual', ylabel='Count'>"
      ]
     },
     "execution_count": 62,
     "metadata": {},
     "output_type": "execute_result"
    },
    {
     "data": {
      "text/plain": [
       "<Figure size 640x480 with 1 Axes>"
      ],
      "image/png": "[encoded data removed]"
     },
     "metadata": {},
     "output_type": "display_data"
    }
   ],
   "execution_count": 62
  },
  {
   "cell_type": "code",
   "source": [
    "import numpy as np\n",
    "import pandas as pd\n",
    "from sklearn.linear_model import LinearRegression\n",
    "\n",
    "# X는 특성 변수들로 구성된 데이터프레임, df_bonus에서 outcome(y)와 treatment(T)를 제외한 나머지 변수들로 구성\n",
    "X = df_bonus.drop(columns=['y_factual', 'treatment'])  # 예시로 'treatment'라는 변수 이름 사용\n",
    "\n",
    "# outcome과 treatment 변수 설정\n",
    "y = df_bonus['y_factual']\n",
    "T = df_bonus['treatment']\n",
    "\n",
    "# treatment 그룹의 모델 (mu1)\n",
    "model_treated = LinearRegression().fit(X[T == 1], y[T == 1])\n",
    "mu1 = model_treated.predict(X)\n",
    "\n",
    "\n",
    "# control 그룹의 모델 (mu0)\n",
    "model_control = LinearRegression().fit(X[T == 0], y[T == 0])\n",
    "mu0 = model_control.predict(X)\n",
    "\n",
    "# 데이터프레임에 mu0과 mu1 추가\n",
    "df_bonus['mu0'] = mu0\n",
    "df_bonus['mu1'] = mu1\n",
    "\n",
    "# 결과 확인\n",
    "print(df_bonus[['mu0', 'mu1']].head())\n"
   ],
   "metadata": {
    "colab": {
     "base_uri": "https://localhost:8080/"
    },
    "id": "LcKJrZUOEaz6",
    "outputId": "a1f248b1-3fc9-4ba4-d0e8-06b400ee6591",
    "ExecuteTime": {
     "end_time": "2024-12-04T07:34:25.289189Z",
     "start_time": "2024-12-04T07:34:25.268315Z"
    }
   },
   "outputs": [
    {
     "name": "stdout",
     "output_type": "stream",
     "text": [
      "        mu0       mu1\n",
      "0  2.576030  2.528813\n",
      "1  0.887995  0.775755\n",
      "2  3.543029  3.486318\n",
      "3  1.754760  1.696787\n",
      "4  3.427159  3.480226\n"
     ]
    }
   ],
   "execution_count": 63
  },
  {
   "cell_type": "code",
   "source": [
    "sns.histplot(df_bonus['mu0'], kde=True)\n",
    "sns.histplot(df_bonus['mu1'], kde=True)"
   ],
   "metadata": {
    "colab": {
     "base_uri": "https://localhost:8080/",
     "height": 466
    },
    "id": "CoBCVSLYIZI0",
    "outputId": "d4e56235-bb20-4d77-bd1a-09d29ad93dcb",
    "ExecuteTime": {
     "end_time": "2024-12-04T07:34:25.593185Z",
     "start_time": "2024-12-04T07:34:25.365193Z"
    }
   },
   "outputs": [
    {
     "data": {
      "text/plain": [
       "<Axes: xlabel='mu0', ylabel='Count'>"
      ]
     },
     "execution_count": 64,
     "metadata": {},
     "output_type": "execute_result"
    },
    {
     "data": {
      "text/plain": [
       "<Figure size 640x480 with 1 Axes>"
      ],
      "image/png": "[encoded data removed]"
     },
     "metadata": {},
     "output_type": "display_data"
    }
   ],
   "execution_count": 64
  },
  {
   "cell_type": "code",
   "source": [
    "sns.histplot(df_bonus[df_bonus['treatment'] == 0]['y_factual'], kde=True)\n",
    "sns.histplot(df_bonus[df_bonus['treatment'] == 1]['y_factual'], kde=True)"
   ],
   "metadata": {
    "colab": {
     "base_uri": "https://localhost:8080/",
     "height": 467
    },
    "id": "yRCy-vP0Id5v",
    "outputId": "3d8d568b-b87f-48ad-a557-0239ae116e6d",
    "ExecuteTime": {
     "end_time": "2024-12-04T07:34:25.869017Z",
     "start_time": "2024-12-04T07:34:25.647838Z"
    }
   },
   "outputs": [
    {
     "data": {
      "text/plain": [
       "<Axes: xlabel='y_factual', ylabel='Count'>"
      ]
     },
     "execution_count": 65,
     "metadata": {},
     "output_type": "execute_result"
    },
    {
     "data": {
      "text/plain": [
       "<Figure size 640x480 with 1 Axes>"
      ],
      "image/png": "[encoded data removed]"
     },
     "metadata": {},
     "output_type": "display_data"
    }
   ],
   "execution_count": 65
  },
  {
   "cell_type": "code",
   "source": [
    "sns.histplot(df_bonus[df_bonus['treatment'] == 0]['y_cfactual'], kde=True)\n",
    "sns.histplot(df_bonus[df_bonus['treatment'] == 1]['y_cfactual'], kde=True)"
   ],
   "metadata": {
    "colab": {
     "base_uri": "https://localhost:8080/",
     "height": 467
    },
    "id": "eC6FNprALdM6",
    "outputId": "9953300c-62cd-4e80-d9a9-c2573b3c08b0",
    "ExecuteTime": {
     "end_time": "2024-12-04T07:34:26.149965Z",
     "start_time": "2024-12-04T07:34:25.920700Z"
    }
   },
   "outputs": [
    {
     "data": {
      "text/plain": [
       "<Axes: xlabel='y_cfactual', ylabel='Count'>"
      ]
     },
     "execution_count": 66,
     "metadata": {},
     "output_type": "execute_result"
    },
    {
     "data": {
      "text/plain": [
       "<Figure size 640x480 with 1 Axes>"
      ],
      "image/png": "[encoded data removed]"
     },
     "metadata": {},
     "output_type": "display_data"
    }
   ],
   "execution_count": 66
  },
  {
   "cell_type": "code",
   "source": [
    "for col in df_bonus.columns:\n",
    "    print(col)"
   ],
   "metadata": {
    "colab": {
     "base_uri": "https://localhost:8080/"
    },
    "id": "WJe2em0tL5AQ",
    "outputId": "51838dc7-6136-4d1e-a4ef-0cd91822d83b",
    "ExecuteTime": {
     "end_time": "2024-12-04T07:34:26.207272Z",
     "start_time": "2024-12-04T07:34:26.201085Z"
    }
   },
   "outputs": [
    {
     "name": "stdout",
     "output_type": "stream",
     "text": [
      "index\n",
      "abdt\n",
      "treatment\n",
      "y_factual\n",
      "inuidur2\n",
      "female\n",
      "black\n",
      "hispanic\n",
      "othrace\n",
      "dep\n",
      "q1\n",
      "q2\n",
      "q3\n",
      "q4\n",
      "q5\n",
      "q6\n",
      "recall\n",
      "agelt35\n",
      "agegt54\n",
      "durable\n",
      "nondurable\n",
      "lusd\n",
      "husd\n",
      "muld\n",
      "dep1\n",
      "dep2\n",
      "y_treat_pred\n",
      "y_control_pred\n",
      "y_cfactual\n",
      "mu0\n",
      "mu1\n"
     ]
    }
   ],
   "execution_count": 67
  },
  {
   "cell_type": "code",
   "source": [
    "# covariate 이름 바꾸기\n",
    "df_bonus.rename(columns={'female': 'x1'}, inplace=True)\n",
    "df_bonus.rename(columns={'black': 'x2'}, inplace=True)\n",
    "df_bonus.rename(columns={'hispanic': 'x3'}, inplace=True)\n",
    "df_bonus.rename(columns={'othrace': 'x4'}, inplace=True)\n",
    "df_bonus.rename(columns={'dep': 'x5'}, inplace=True)\n",
    "df_bonus.rename(columns={'q1': 'x6'}, inplace=True)\n",
    "df_bonus.rename(columns={'q2': 'x7'}, inplace=True)\n",
    "df_bonus.rename(columns={'q3': 'x8'}, inplace=True)\n",
    "df_bonus.rename(columns={'q4': 'x9'}, inplace=True)\n",
    "df_bonus.rename(columns={'q5': 'x10'}, inplace=True)\n",
    "df_bonus.rename(columns={'q6': 'x11'}, inplace=True)\n",
    "df_bonus.rename(columns={'recall': 'x12'}, inplace=True)\n",
    "df_bonus.rename(columns={'agelt35': 'x13'}, inplace=True)\n",
    "df_bonus.rename(columns={'agegt54': 'x14'}, inplace=True)\n",
    "df_bonus.rename(columns={'durable': 'x15'}, inplace=True)\n",
    "df_bonus.rename(columns={'nondurable': 'x16'}, inplace=True)\n",
    "df_bonus.rename(columns={'lusd': 'x17'}, inplace=True)\n",
    "df_bonus.rename(columns={'husd': 'x18'}, inplace=True)\n",
    "df_bonus.rename(columns={'muld': 'x19'}, inplace=True)\n",
    "df_bonus.rename(columns={'dep1': 'x20'}, inplace=True)\n",
    "df_bonus.rename(columns={'dep2': 'x21'}, inplace=True)"
   ],
   "metadata": {
    "id": "MREFzg3-NJWN",
    "ExecuteTime": {
     "end_time": "2024-12-04T07:34:26.272967Z",
     "start_time": "2024-12-04T07:34:26.260266Z"
    }
   },
   "outputs": [],
   "execution_count": 68
  },
  {
   "cell_type": "code",
   "source": [
    "#불필요한 변수 지우기\n",
    "df_bonus = df_bonus.drop(['index', 'abdt', 'inuidur2', 'y_treat_pred', 'y_control_pred'], axis=1)"
   ],
   "metadata": {
    "id": "aeoEEOJcOZUX",
    "ExecuteTime": {
     "end_time": "2024-12-04T07:34:26.338294Z",
     "start_time": "2024-12-04T07:34:26.331215Z"
    }
   },
   "outputs": [],
   "execution_count": 69
  },
  {
   "cell_type": "code",
   "source": [
    "df_bonus.head(5)"
   ],
   "metadata": {
    "colab": {
     "base_uri": "https://localhost:8080/",
     "height": 233
    },
    "id": "JT9mFvKEO3pb",
    "outputId": "41e44011-93f4-4d6c-dfa4-c9cd8b8c2ed3",
    "ExecuteTime": {
     "end_time": "2024-12-04T07:34:26.406657Z",
     "start_time": "2024-12-04T07:34:26.389846Z"
    }
   },
   "outputs": [
    {
     "data": {
      "text/plain": [
       "   treatment  y_factual  x1  x2  x3  x4  x5  x6  x7  x8  ...  x15  x16  x17  \\\n",
       "0          0   2.890372   0   0   0   0   2   0   0   0  ...    0    0    0   \n",
       "1          0   0.000000   0   0   0   0   0   0   0   0  ...    0    0    1   \n",
       "2          0   3.295837   0   0   0   0   0   0   0   0  ...    0    0    1   \n",
       "3          1   2.197225   0   0   0   0   0   0   0   1  ...    0    0    0   \n",
       "4          0   3.295837   0   0   0   0   1   0   0   0  ...    1    0    1   \n",
       "\n",
       "   x18  x19  x20  x21  y_cfactual       mu0       mu1  \n",
       "0    1    0  0.0  1.0    2.534120  2.576030  2.528813  \n",
       "1    0    0  0.0  0.0    0.788370  0.887995  0.775755  \n",
       "2    0    0  0.0  0.0    3.492692  3.543029  3.486318  \n",
       "3    0    1  0.0  0.0    1.748270  1.754760  1.696787  \n",
       "4    0    0  1.0  0.0    3.474261  3.427159  3.480226  \n",
       "\n",
       "[5 rows x 26 columns]"
      ],
      "text/html": [
       "<div>\n",
       "<style scoped>\n",
       "    .dataframe tbody tr th:only-of-type {\n",
       "        vertical-align: middle;\n",
       "    }\n",
       "\n",
       "    .dataframe tbody tr th {\n",
       "        vertical-align: top;\n",
       "    }\n",
       "\n",
       "    .dataframe thead th {\n",
       "        text-align: right;\n",
       "    }\n",
       "</style>\n",
       "<table border=\"1\" class=\"dataframe\">\n",
       "  <thead>\n",
       "    <tr style=\"text-align: right;\">\n",
       "      <th></th>\n",
       "      <th>treatment</th>\n",
       "      <th>y_factual</th>\n",
       "      <th>x1</th>\n",
       "      <th>x2</th>\n",
       "      <th>x3</th>\n",
       "      <th>x4</th>\n",
       "      <th>x5</th>\n",
       "      <th>x6</th>\n",
       "      <th>x7</th>\n",
       "      <th>x8</th>\n",
       "      <th>...</th>\n",
       "      <th>x15</th>\n",
       "      <th>x16</th>\n",
       "      <th>x17</th>\n",
       "      <th>x18</th>\n",
       "      <th>x19</th>\n",
       "      <th>x20</th>\n",
       "      <th>x21</th>\n",
       "      <th>y_cfactual</th>\n",
       "      <th>mu0</th>\n",
       "      <th>mu1</th>\n",
       "    </tr>\n",
       "  </thead>\n",
       "  <tbody>\n",
       "    <tr>\n",
       "      <th>0</th>\n",
       "      <td>0</td>\n",
       "      <td>2.890372</td>\n",
       "      <td>0</td>\n",
       "      <td>0</td>\n",
       "      <td>0</td>\n",
       "      <td>0</td>\n",
       "      <td>2</td>\n",
       "      <td>0</td>\n",
       "      <td>0</td>\n",
       "      <td>0</td>\n",
       "      <td>...</td>\n",
       "      <td>0</td>\n",
       "      <td>0</td>\n",
       "      <td>0</td>\n",
       "      <td>1</td>\n",
       "      <td>0</td>\n",
       "      <td>0.0</td>\n",
       "      <td>1.0</td>\n",
       "      <td>2.534120</td>\n",
       "      <td>2.576030</td>\n",
       "      <td>2.528813</td>\n",
       "    </tr>\n",
       "    <tr>\n",
       "      <th>1</th>\n",
       "      <td>0</td>\n",
       "      <td>0.000000</td>\n",
       "      <td>0</td>\n",
       "      <td>0</td>\n",
       "      <td>0</td>\n",
       "      <td>0</td>\n",
       "      <td>0</td>\n",
       "      <td>0</td>\n",
       "      <td>0</td>\n",
       "      <td>0</td>\n",
       "      <td>...</td>\n",
       "      <td>0</td>\n",
       "      <td>0</td>\n",
       "      <td>1</td>\n",
       "      <td>0</td>\n",
       "      <td>0</td>\n",
       "      <td>0.0</td>\n",
       "      <td>0.0</td>\n",
       "      <td>0.788370</td>\n",
       "      <td>0.887995</td>\n",
       "      <td>0.775755</td>\n",
       "    </tr>\n",
       "    <tr>\n",
       "      <th>2</th>\n",
       "      <td>0</td>\n",
       "      <td>3.295837</td>\n",
       "      <td>0</td>\n",
       "      <td>0</td>\n",
       "      <td>0</td>\n",
       "      <td>0</td>\n",
       "      <td>0</td>\n",
       "      <td>0</td>\n",
       "      <td>0</td>\n",
       "      <td>0</td>\n",
       "      <td>...</td>\n",
       "      <td>0</td>\n",
       "      <td>0</td>\n",
       "      <td>1</td>\n",
       "      <td>0</td>\n",
       "      <td>0</td>\n",
       "      <td>0.0</td>\n",
       "      <td>0.0</td>\n",
       "      <td>3.492692</td>\n",
       "      <td>3.543029</td>\n",
       "      <td>3.486318</td>\n",
       "    </tr>\n",
       "    <tr>\n",
       "      <th>3</th>\n",
       "      <td>1</td>\n",
       "      <td>2.197225</td>\n",
       "      <td>0</td>\n",
       "      <td>0</td>\n",
       "      <td>0</td>\n",
       "      <td>0</td>\n",
       "      <td>0</td>\n",
       "      <td>0</td>\n",
       "      <td>0</td>\n",
       "      <td>1</td>\n",
       "      <td>...</td>\n",
       "      <td>0</td>\n",
       "      <td>0</td>\n",
       "      <td>0</td>\n",
       "      <td>0</td>\n",
       "      <td>1</td>\n",
       "      <td>0.0</td>\n",
       "      <td>0.0</td>\n",
       "      <td>1.748270</td>\n",
       "      <td>1.754760</td>\n",
       "      <td>1.696787</td>\n",
       "    </tr>\n",
       "    <tr>\n",
       "      <th>4</th>\n",
       "      <td>0</td>\n",
       "      <td>3.295837</td>\n",
       "      <td>0</td>\n",
       "      <td>0</td>\n",
       "      <td>0</td>\n",
       "      <td>0</td>\n",
       "      <td>1</td>\n",
       "      <td>0</td>\n",
       "      <td>0</td>\n",
       "      <td>0</td>\n",
       "      <td>...</td>\n",
       "      <td>1</td>\n",
       "      <td>0</td>\n",
       "      <td>1</td>\n",
       "      <td>0</td>\n",
       "      <td>0</td>\n",
       "      <td>1.0</td>\n",
       "      <td>0.0</td>\n",
       "      <td>3.474261</td>\n",
       "      <td>3.427159</td>\n",
       "      <td>3.480226</td>\n",
       "    </tr>\n",
       "  </tbody>\n",
       "</table>\n",
       "<p>5 rows × 26 columns</p>\n",
       "</div>"
      ]
     },
     "execution_count": 70,
     "metadata": {},
     "output_type": "execute_result"
    }
   ],
   "execution_count": 70
  },
  {
   "cell_type": "code",
   "source": [
    "df_bonus.shape[0]*0.7"
   ],
   "metadata": {
    "collapsed": false,
    "ExecuteTime": {
     "end_time": "2024-12-04T07:34:26.499339Z",
     "start_time": "2024-12-04T07:34:26.492856Z"
    }
   },
   "outputs": [
    {
     "data": {
      "text/plain": [
       "3569.2999999999997"
      ]
     },
     "execution_count": 71,
     "metadata": {},
     "output_type": "execute_result"
    }
   ],
   "execution_count": 71
  },
  {
   "cell_type": "code",
   "source": [
    "df_bonus_train = df_bonus.iloc[:3569, :]"
   ],
   "metadata": {
    "collapsed": false,
    "ExecuteTime": {
     "end_time": "2024-12-04T07:34:26.553138Z",
     "start_time": "2024-12-04T07:34:26.547690Z"
    }
   },
   "outputs": [],
   "execution_count": 72
  },
  {
   "cell_type": "code",
   "source": [
    "df_bonus_test = df_bonus.iloc[3569:, :]"
   ],
   "metadata": {
    "collapsed": false,
    "ExecuteTime": {
     "end_time": "2024-12-04T07:34:26.646684Z",
     "start_time": "2024-12-04T07:34:26.641123Z"
    }
   },
   "outputs": [],
   "execution_count": 73
  },
  {
   "cell_type": "code",
   "source": "",
   "metadata": {
    "collapsed": false,
    "ExecuteTime": {
     "end_time": "2024-12-04T07:34:26.694700Z",
     "start_time": "2024-12-04T07:34:26.690173Z"
    }
   },
   "outputs": [],
   "execution_count": null
  },
  {
   "cell_type": "code",
   "source": [
    "# train data\n",
    "# Fetch the Bonus dataset\n",
    "X_ =df_bonus_train.iloc[:, 2:23]\n",
    "y_f = df_bonus_train['y_factual']\n",
    "y_cf = df_bonus_train['y_cfactual']\n",
    "mu_0 = df_bonus_train['mu0']\n",
    "mu_1 = df_bonus_train['mu1']\n",
    "trt_ = df_bonus_train['treatment']\n",
    "\n",
    "# Constants\n",
    "n_samples, n_features = X_.shape  # Number of samples and features\n",
    "n_experiments = 100  # Number of experiments\n",
    "\n",
    "# Initialize arrays to store 100 versions of the dataset\n",
    "x = np.zeros((n_samples, n_features, n_experiments))  # Feature matrix\n",
    "t = np.zeros((n_samples, n_experiments))  # Treatment assignment (binary)\n",
    "yf = np.zeros((n_samples, n_experiments))  # Observed outcomes\n",
    "ycf = np.zeros((n_samples, n_experiments))  # Counterfactual outcomes\n",
    "mu0 = np.zeros((n_samples, n_experiments))  # Potential outcome under control\n",
    "mu1 = np.zeros((n_samples, n_experiments))  # Potential outcome under treatment\n",
    "ate = np.zeros((n_experiments,))  # Average treatment effect\n",
    "yadd = np.zeros((n_samples, n_experiments))  # Additional outcome\n",
    "ymul = np.zeros((n_samples, n_experiments))  # Additional outcome\n",
    "\n",
    "# Generate 100 experiments by introducing slight randomness\n",
    "np.random.seed(42)\n",
    "for i in range(n_experiments):\n",
    "    # Add slight random noise to features\n",
    "    x[:, :, i] = X_.astype(int)  ^ np.random.randint(0,1, size=X_.shape)\n",
    "    \n",
    "    # Generate treatment assignment randomly\n",
    "    t[:, i] = trt_ #+ np.random.randint(0, 2, size=n_samples)\n",
    "    \n",
    "    # Generate potential outcomes under control (mu0) and treatment (mu1)\n",
    "    mu0[:, i] = mu_0 - 0.5 + np.random.normal(scale=0.1, size=n_samples)\n",
    "    mu1[:, i] = mu_1 + 0.5 + np.random.normal(scale=0.1, size=n_samples)\n",
    "    \n",
    "    # Observed outcome (yf) and counterfactual outcome (ycf)\n",
    "    yf[:, i] = y_f + 0.5 + np.random.normal(scale=0.1, size=n_samples)\n",
    "    ycf[:, i] = y_cf + 0.5 + np.random.normal(scale=0.1, size=n_samples)\n",
    "    \n",
    "    # Average treatment effect\n",
    "    ate[i] = np.mean(mu1[:, i] - mu0[:, i])\n",
    "    \n",
    "    # Additional synthetic outcomes (yadd, ymul)\n",
    "    yadd[:, i] = yf[:, i] + np.random.normal(scale=0.1, size=n_samples)\n",
    "    ymul[:, i] = yf[:, i] * (1 + np.random.normal(scale=0.01, size=n_samples))\n",
    "\n",
    "# Save the dataset in .npz format\n",
    "output_path = \"/home/yesong/PairNet_DML/catenets/datasets/data/bonus_data.train.npz\"\n",
    "np.savez(\n",
    "    output_path,\n",
    "    x=x,\n",
    "    t=t,\n",
    "    yf=yf,\n",
    "    ycf=ycf,\n",
    "    mu0=mu0,\n",
    "    mu1=mu1,\n",
    "    ate=ate,\n",
    "    yadd=yadd,\n",
    "    ymul=ymul,\n",
    ")\n",
    "\n",
    "print(f\"100개의 변형된 Bonus 데이터셋이 {output_path}에 저장되었습니다!\")\n"
   ],
   "metadata": {
    "collapsed": false,
    "ExecuteTime": {
     "end_time": "2024-12-04T07:34:27.364295Z",
     "start_time": "2024-12-04T07:34:26.746630Z"
    }
   },
   "outputs": [
    {
     "name": "stdout",
     "output_type": "stream",
     "text": [
      "100개의 변형된 Bonus 데이터셋이 /home/yesong/PairNet_DML/catenets/datasets/data/bonus_data.train.npz에 저장되었습니다!\n"
     ]
    }
   ],
   "execution_count": 74
  },
  {
   "cell_type": "code",
   "source": [
    "# test data\n",
    "# Fetch the Bonus dataset\n",
    "X_ =df_bonus_test.iloc[:, 2:23]\n",
    "y_f = df_bonus_test['y_factual']\n",
    "y_cf = df_bonus_test['y_cfactual']\n",
    "mu_0 = df_bonus_test['mu0']\n",
    "mu_1 = df_bonus_test['mu1']\n",
    "trt_ = df_bonus_test['treatment']\n",
    "\n",
    "# Constants\n",
    "n_samples, n_features = X_.shape  # Number of samples and features\n",
    "n_experiments = 100  # Number of experiments\n",
    "\n",
    "# Initialize arrays to store 100 versions of the dataset\n",
    "x = np.zeros((n_samples, n_features, n_experiments))  # Feature matrix\n",
    "t = np.zeros((n_samples, n_experiments))  # Treatment assignment (binary)\n",
    "yf = np.zeros((n_samples, n_experiments))  # Observed outcomes\n",
    "ycf = np.zeros((n_samples, n_experiments))  # Counterfactual outcomes\n",
    "mu0 = np.zeros((n_samples, n_experiments))  # Potential outcome under control\n",
    "mu1 = np.zeros((n_samples, n_experiments))  # Potential outcome under treatment\n",
    "ate = np.zeros((n_experiments,))  # Average treatment effect\n",
    "yadd = np.zeros((n_samples, n_experiments))  # Additional outcome\n",
    "ymul = np.zeros((n_samples, n_experiments))  # Additional outcome\n",
    "\n",
    "# Generate 100 experiments by introducing slight randomness\n",
    "np.random.seed(42)\n",
    "for i in range(n_experiments):\n",
    "    # Add slight random noise to features\n",
    "    x[:, :, i] = X_.astype(int)  ^ np.random.randint(0,1, size=X_.shape)\n",
    "    \n",
    "    # Generate treatment assignment randomly\n",
    "    t[:, i] = trt_ #+ np.random.randint(0, 2, size=n_samples)\n",
    "    \n",
    "    # Generate potential outcomes under control (mu0) and treatment (mu1)\n",
    "    mu0[:, i] = mu_0 - 0.5 + np.random.normal(scale=0.1, size=n_samples)\n",
    "    mu1[:, i] = mu_1 + 0.5 + np.random.normal(scale=0.1, size=n_samples)\n",
    "    \n",
    "    # Observed outcome (yf) and counterfactual outcome (ycf)\n",
    "    yf[:, i] = y_f + 0.5 + np.random.normal(scale=0.1, size=n_samples)\n",
    "    ycf[:, i] = y_cf + 0.5 + np.random.normal(scale=0.1, size=n_samples)\n",
    "    \n",
    "    # Average treatment effect\n",
    "    ate[i] = np.mean(mu1[:, i] - mu0[:, i])\n",
    "    \n",
    "    # Additional synthetic outcomes (yadd, ymul)\n",
    "    yadd[:, i] = yf[:, i] + np.random.normal(scale=0.1, size=n_samples)\n",
    "    ymul[:, i] = yf[:, i] * (1 + np.random.normal(scale=0.01, size=n_samples))\n",
    "\n",
    "# Save the dataset in .npz format\n",
    "output_path = \"/home/yesong/PairNet_DML/catenets/datasets/data/bonus_data.test.npz\"\n",
    "np.savez(\n",
    "    output_path,\n",
    "    x=x,\n",
    "    t=t,\n",
    "    yf=yf,\n",
    "    ycf=ycf,\n",
    "    mu0=mu0,\n",
    "    mu1=mu1,\n",
    "    ate=ate,\n",
    "    yadd=yadd,\n",
    "    ymul=ymul,\n",
    ")\n",
    "\n",
    "print(f\"100개의 변형된 Bonus 데이터셋이 {output_path}에 저장되었습니다!\")"
   ],
   "metadata": {
    "collapsed": false,
    "ExecuteTime": {
     "end_time": "2024-12-04T07:37:05.169919Z",
     "start_time": "2024-12-04T07:37:04.812819Z"
    }
   },
   "outputs": [
    {
     "name": "stdout",
     "output_type": "stream",
     "text": [
      "100개의 변형된 Bonus 데이터셋이 /home/yesong/PairNet_DML/catenets/datasets/data/bonus_data.test.npz에 저장되었습니다!\n"
     ]
    }
   ],
   "execution_count": 79
  },
  {
   "cell_type": "code",
   "source": [],
   "metadata": {
    "collapsed": false,
    "ExecuteTime": {
     "end_time": "2024-12-04T07:38:08.711932Z",
     "start_time": "2024-12-04T07:38:08.707319Z"
    }
   },
   "outputs": [],
   "execution_count": null
  },
  {
   "metadata": {
    "ExecuteTime": {
     "end_time": "2024-12-04T07:39:50.104036Z",
     "start_time": "2024-12-04T07:39:49.391806Z"
    }
   },
   "cell_type": "code",
   "source": [
    "# Boot strapping data\n",
    "\n",
    "# train data\n",
    "# Fetch the Bonus dataset\n",
    "X_ = df_bonus_train.iloc[:, 2:23]\n",
    "y_f = df_bonus_train['y_factual']\n",
    "y_cf = df_bonus_train['y_cfactual']\n",
    "mu_0 = df_bonus_train['mu0']\n",
    "mu_1 = df_bonus_train['mu1']\n",
    "trt_ = df_bonus_train['treatment']\n",
    "\n",
    "# Constants\n",
    "n_samples, n_features = X_.shape  # Number of samples and features\n",
    "n_experiments = 500  # Number of experiments\n",
    "bootstrap_samples = 500  # Number of samples per bootstrap\n",
    "\n",
    "# Initialize arrays to store bootstrap datasets\n",
    "x = np.zeros((bootstrap_samples, n_features, n_experiments))  # Feature matrix\n",
    "t = np.zeros((bootstrap_samples, n_experiments))  # Treatment assignment (binary)\n",
    "yf = np.zeros((bootstrap_samples, n_experiments))  # Observed outcomes\n",
    "ycf = np.zeros((bootstrap_samples, n_experiments))  # Counterfactual outcomes\n",
    "mu0 = np.zeros((bootstrap_samples, n_experiments))  # Potential outcome under control\n",
    "mu1 = np.zeros((bootstrap_samples, n_experiments))  # Potential outcome under treatment\n",
    "ate = np.zeros((n_experiments,))  # Average treatment effect\n",
    "yadd = np.zeros((bootstrap_samples, n_experiments))  # Additional outcome\n",
    "ymul = np.zeros((bootstrap_samples, n_experiments))  # Additional outcome\n",
    "\n",
    "# Generate 100 experiments with bootstrap sampling\n",
    "np.random.seed(42)\n",
    "for i in range(n_experiments):\n",
    "    # Bootstrap indices\n",
    "    bootstrap_indices = np.random.choice(n_samples, size=bootstrap_samples, replace=True)\n",
    "\n",
    "    # Bootstrap sampling\n",
    "    x[:, :, i] = X_.iloc[bootstrap_indices].astype(int).values\n",
    "    t[:, i] = trt_.iloc[bootstrap_indices].values\n",
    "    mu0[:, i] = mu_0.iloc[bootstrap_indices].values\n",
    "    mu1[:, i] = mu_1.iloc[bootstrap_indices].values\n",
    "    yf[:, i] = y_f.iloc[bootstrap_indices].values\n",
    "    ycf[:, i] = y_cf.iloc[bootstrap_indices].values\n",
    "\n",
    "    # Add randomness to potential outcomes\n",
    "    mu0[:, i] += np.random.normal(scale=0.1, size=bootstrap_samples)\n",
    "    mu1[:, i] += np.random.normal(scale=0.1, size=bootstrap_samples)\n",
    "\n",
    "    # Observed outcome (yf) and counterfactual outcome (ycf)\n",
    "    yf[:, i] += np.random.normal(scale=0.1, size=bootstrap_samples)\n",
    "    ycf[:, i] += np.random.normal(scale=0.1, size=bootstrap_samples)\n",
    "\n",
    "    # Average treatment effect\n",
    "    ate[i] = np.mean(mu1[:, i] - mu0[:, i])\n",
    "\n",
    "    # Additional synthetic outcomes (yadd, ymul)\n",
    "    yadd[:, i] = yf[:, i] + np.random.normal(scale=0.1, size=bootstrap_samples)\n",
    "    ymul[:, i] = yf[:, i] * (1 + np.random.normal(scale=0.01, size=bootstrap_samples))\n",
    "\n",
    "# Save the dataset in .npz format\n",
    "output_path = \"/home/yesong/PairNet_DML/catenets/datasets/data/bonus_data.train_bootstrap.npz\"\n",
    "np.savez(\n",
    "    output_path,\n",
    "    x=x,\n",
    "    t=t,\n",
    "    yf=yf,\n",
    "    ycf=ycf,\n",
    "    mu0=mu0,\n",
    "    mu1=mu1,\n",
    "    ate=ate,\n",
    "    yadd=yadd,\n",
    "    ymul=ymul,\n",
    ")\n",
    "\n",
    "print(f\"500개의 부트스트래핑 데이터셋이 {output_path}에 저장되었습니다!\")\n"
   ],
   "outputs": [
    {
     "name": "stdout",
     "output_type": "stream",
     "text": [
      "500개의 부트스트래핑 데이터셋이 /home/yesong/PairNet_DML/catenets/datasets/data/bonus_data.train_bootstrap.npz에 저장되었습니다!\n"
     ]
    }
   ],
   "execution_count": 85
  },
  {
   "metadata": {
    "ExecuteTime": {
     "end_time": "2024-12-04T07:45:26.030480Z",
     "start_time": "2024-12-04T07:45:25.419211Z"
    }
   },
   "cell_type": "code",
   "source": [
    "# Fetch the Bonus dataset\n",
    "X_ = df_bonus_test.iloc[:, 2:23]\n",
    "y_f = df_bonus_test['y_factual']\n",
    "y_cf = df_bonus_test['y_cfactual']\n",
    "mu_0 = df_bonus_test['mu0']\n",
    "mu_1 = df_bonus_test['mu1']\n",
    "trt_ = df_bonus_test['treatment']\n",
    "\n",
    "# Constants\n",
    "n_samples, n_features = X_.shape  # Number of samples and features\n",
    "bootstrap_samples = 500\n",
    "n_experiments = 500  # Number of bootstrap experiments\n",
    "\n",
    "# Initialize arrays to store bootstrap datasets\n",
    "x = np.zeros((bootstrap_samples, n_features, n_experiments))  # Feature matrix\n",
    "t = np.zeros((bootstrap_samples, n_experiments))  # Treatment assignment (binary)\n",
    "yf = np.zeros((bootstrap_samples, n_experiments))  # Observed outcomes\n",
    "ycf = np.zeros((bootstrap_samples, n_experiments))  # Counterfactual outcomes\n",
    "mu0 = np.zeros((bootstrap_samples, n_experiments))  # Potential outcome under control\n",
    "mu1 = np.zeros((bootstrap_samples, n_experiments))  # Potential outcome under treatment\n",
    "ate = np.zeros((n_experiments,))  # Average treatment effect\n",
    "yadd = np.zeros((bootstrap_samples, n_experiments))  # Additional outcome\n",
    "ymul = np.zeros((bootstrap_samples, n_experiments))  # Additional outcome\n",
    "\n",
    "# Generate bootstrap samples for test data\n",
    "np.random.seed(42)\n",
    "for i in range(n_experiments):\n",
    "    # Bootstrap sampling: Random sampling with replacement\n",
    "    bootstrap_indices = np.random.choice(n_samples, size=bootstrap_samples, replace=True)\n",
    "\n",
    "    # Use bootstrap samples to populate datasets\n",
    "    x[:, :, i] = X_.iloc[bootstrap_indices, :].values  # Bootstrap sample features\n",
    "    t[:, i] = trt_.iloc[bootstrap_indices].values  # Bootstrap treatment assignments\n",
    "    mu0[:, i] = mu_0.iloc[bootstrap_indices].values  # Bootstrap potential outcomes (control)\n",
    "    mu1[:, i] = mu_1.iloc[bootstrap_indices].values  # Bootstrap potential outcomes (treatment)\n",
    "    yf[:, i] = y_f.iloc[bootstrap_indices].values  # Bootstrap observed outcomes\n",
    "    ycf[:, i] = y_cf.iloc[bootstrap_indices].values  # Bootstrap counterfactual outcomes\n",
    "\n",
    "    # Average treatment effect\n",
    "    ate[i] = np.mean(mu1[:, i] - mu0[:, i])\n",
    "\n",
    "    # Additional synthetic outcomes (yadd, ymul)\n",
    "    yadd[:, i] = yf[:, i] + np.random.normal(scale=0.1, size=bootstrap_samples)\n",
    "    ymul[:, i] = yf[:, i] * (1 + np.random.normal(scale=0.01, size=bootstrap_samples))\n",
    "\n",
    "# Save the dataset in .npz format\n",
    "output_path = \"/home/yesong/PairNet_DML/catenets/datasets/data/bonus_data.test_bootstrap.npz\"\n",
    "np.savez(\n",
    "    output_path,\n",
    "    x=x,\n",
    "    t=t,\n",
    "    yf=yf,\n",
    "    ycf=ycf,\n",
    "    mu0=mu0,\n",
    "    mu1=mu1,\n",
    "    ate=ate,\n",
    "    yadd=yadd,\n",
    "    ymul=ymul,\n",
    ")\n",
    "\n",
    "print(f\"500개의 부트스트랩된 Bonus 테스트 데이터셋이 {output_path}에 저장되었습니다!\")"
   ],
   "outputs": [
    {
     "name": "stdout",
     "output_type": "stream",
     "text": [
      "500개의 부트스트랩된 Bonus 테스트 데이터셋이 /home/yesong/PairNet_DML/catenets/datasets/data/bonus_data.test_bootstrap.npz에 저장되었습니다!\n"
     ]
    }
   ],
   "execution_count": 87
  },
  {
   "metadata": {
    "ExecuteTime": {
     "end_time": "2024-12-04T07:48:29.362474Z",
     "start_time": "2024-12-04T07:48:29.350874Z"
    }
   },
   "cell_type": "code",
   "source": "",
   "outputs": [
    {
     "data": {
      "text/plain": [
       "array([[2.21794654, 1.8443852 , 0.97517731, ..., 0.85383913, 3.61040171,\n",
       "        2.11758692],\n",
       "       [0.83639258, 0.72572103, 2.64220996, ..., 2.29861731, 0.82567317,\n",
       "        1.31851122],\n",
       "       [0.95317076, 1.25830115, 3.39949908, ..., 0.85383913, 1.45468746,\n",
       "        1.70683574],\n",
       "       ...,\n",
       "       [1.78896029, 0.70271216, 0.90420789, ..., 1.66516753, 1.5054684 ,\n",
       "        2.11025262],\n",
       "       [3.62499815, 1.80533035, 3.51275824, ..., 1.12894911, 0.85679167,\n",
       "        1.17672316],\n",
       "       [1.85792017, 3.41842757, 0.89184068, ..., 2.20448559, 3.61104795,\n",
       "        3.35993257]])"
      ]
     },
     "execution_count": 96,
     "metadata": {},
     "output_type": "execute_result"
    }
   ],
   "execution_count": 96
  },
  {
   "metadata": {
    "ExecuteTime": {
     "end_time": "2024-12-04T07:47:25.556026Z",
     "start_time": "2024-12-04T07:47:25.551281Z"
    }
   },
   "cell_type": "code",
   "source": "",
   "outputs": [],
   "execution_count": null
  },
  {
   "metadata": {},
   "cell_type": "code",
   "outputs": [],
   "execution_count": null,
   "source": ""
  }
 ]
}
